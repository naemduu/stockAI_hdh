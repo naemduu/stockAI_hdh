{
 "cells": [
  {
   "cell_type": "code",
   "execution_count": 15,
   "metadata": {
    "collapsed": true,
    "pycharm": {
     "name": "#%%\n"
    }
   },
   "outputs": [],
   "source": [
    "import pandas as pd\n",
    "import utils\n",
    "\n",
    "csv_file = utils.file_path('saves/candle_1d/AAPL_daily_20250130204757.csv')\n",
    "data = pd.read_csv(csv_file)[2:]"
   ]
  },
  {
   "cell_type": "code",
   "execution_count": 16,
   "outputs": [
    {
     "data": {
      "text/plain": "          Price               Close                High                 Low  \\\n2    2024-01-30  187.12327575683594  190.86495502370778  186.55606247111587   \n3    2024-01-31   183.5010223388672  186.18787167030365  183.45127824224116   \n4    2024-02-01  185.94903564453125  186.03859323945602   182.9238626911125   \n5    2024-02-02  184.94395446777344  186.41673495449575   178.3761245608121   \n6    2024-02-05  186.76502990722656   188.3273832549743   184.9340037750539   \n..          ...                 ...                 ...                 ...   \n248  2025-01-23  223.66000366210938  227.02999877929688   222.3000030517578   \n249  2025-01-24  222.77999877929688   225.6300048828125  221.41000366210938   \n250  2025-01-27  229.86000061035156  232.14999389648438  223.97999572753906   \n251  2025-01-28  238.25999450683594  240.19000244140625  230.80999755859375   \n252  2025-01-29  239.36000061035156  239.86000061035156  234.00999450683594   \n\n                   Open     Volume  \n2    190.00914701951908   55859400  \n3    186.12815142243116   55467800  \n4    183.09303209854838   64885400  \n5     178.9831513103476  102518000  \n6    187.23273981487074   69668800  \n..                  ...        ...  \n248  224.74000549316406   60234800  \n249  224.77999877929688   54697900  \n250  224.02000427246094   94863400  \n251  230.85000610351562   75707600  \n252   234.1199951171875   45375500  \n\n[251 rows x 6 columns]",
      "text/html": "<div>\n<style scoped>\n    .dataframe tbody tr th:only-of-type {\n        vertical-align: middle;\n    }\n\n    .dataframe tbody tr th {\n        vertical-align: top;\n    }\n\n    .dataframe thead th {\n        text-align: right;\n    }\n</style>\n<table border=\"1\" class=\"dataframe\">\n  <thead>\n    <tr style=\"text-align: right;\">\n      <th></th>\n      <th>Price</th>\n      <th>Close</th>\n      <th>High</th>\n      <th>Low</th>\n      <th>Open</th>\n      <th>Volume</th>\n    </tr>\n  </thead>\n  <tbody>\n    <tr>\n      <th>2</th>\n      <td>2024-01-30</td>\n      <td>187.12327575683594</td>\n      <td>190.86495502370778</td>\n      <td>186.55606247111587</td>\n      <td>190.00914701951908</td>\n      <td>55859400</td>\n    </tr>\n    <tr>\n      <th>3</th>\n      <td>2024-01-31</td>\n      <td>183.5010223388672</td>\n      <td>186.18787167030365</td>\n      <td>183.45127824224116</td>\n      <td>186.12815142243116</td>\n      <td>55467800</td>\n    </tr>\n    <tr>\n      <th>4</th>\n      <td>2024-02-01</td>\n      <td>185.94903564453125</td>\n      <td>186.03859323945602</td>\n      <td>182.9238626911125</td>\n      <td>183.09303209854838</td>\n      <td>64885400</td>\n    </tr>\n    <tr>\n      <th>5</th>\n      <td>2024-02-02</td>\n      <td>184.94395446777344</td>\n      <td>186.41673495449575</td>\n      <td>178.3761245608121</td>\n      <td>178.9831513103476</td>\n      <td>102518000</td>\n    </tr>\n    <tr>\n      <th>6</th>\n      <td>2024-02-05</td>\n      <td>186.76502990722656</td>\n      <td>188.3273832549743</td>\n      <td>184.9340037750539</td>\n      <td>187.23273981487074</td>\n      <td>69668800</td>\n    </tr>\n    <tr>\n      <th>...</th>\n      <td>...</td>\n      <td>...</td>\n      <td>...</td>\n      <td>...</td>\n      <td>...</td>\n      <td>...</td>\n    </tr>\n    <tr>\n      <th>248</th>\n      <td>2025-01-23</td>\n      <td>223.66000366210938</td>\n      <td>227.02999877929688</td>\n      <td>222.3000030517578</td>\n      <td>224.74000549316406</td>\n      <td>60234800</td>\n    </tr>\n    <tr>\n      <th>249</th>\n      <td>2025-01-24</td>\n      <td>222.77999877929688</td>\n      <td>225.6300048828125</td>\n      <td>221.41000366210938</td>\n      <td>224.77999877929688</td>\n      <td>54697900</td>\n    </tr>\n    <tr>\n      <th>250</th>\n      <td>2025-01-27</td>\n      <td>229.86000061035156</td>\n      <td>232.14999389648438</td>\n      <td>223.97999572753906</td>\n      <td>224.02000427246094</td>\n      <td>94863400</td>\n    </tr>\n    <tr>\n      <th>251</th>\n      <td>2025-01-28</td>\n      <td>238.25999450683594</td>\n      <td>240.19000244140625</td>\n      <td>230.80999755859375</td>\n      <td>230.85000610351562</td>\n      <td>75707600</td>\n    </tr>\n    <tr>\n      <th>252</th>\n      <td>2025-01-29</td>\n      <td>239.36000061035156</td>\n      <td>239.86000061035156</td>\n      <td>234.00999450683594</td>\n      <td>234.1199951171875</td>\n      <td>45375500</td>\n    </tr>\n  </tbody>\n</table>\n<p>251 rows × 6 columns</p>\n</div>"
     },
     "execution_count": 16,
     "metadata": {},
     "output_type": "execute_result"
    }
   ],
   "source": [
    "data"
   ],
   "metadata": {
    "collapsed": false,
    "pycharm": {
     "name": "#%%\n"
    }
   }
  },
  {
   "cell_type": "code",
   "execution_count": 37,
   "outputs": [],
   "source": [
    "inputs = data.iloc[0, [3, 4]].values"
   ],
   "metadata": {
    "collapsed": false,
    "pycharm": {
     "name": "#%%\n"
    }
   }
  },
  {
   "cell_type": "code",
   "execution_count": 38,
   "outputs": [
    {
     "name": "stdout",
     "output_type": "stream",
     "text": [
      "[186.55606 190.00914]\n"
     ]
    }
   ],
   "source": [
    "print(inputs.astype('float32'))"
   ],
   "metadata": {
    "collapsed": false,
    "pycharm": {
     "name": "#%%\n"
    }
   }
  },
  {
   "cell_type": "code",
   "execution_count": 53,
   "outputs": [],
   "source": [
    "inputs = data.iloc[3:3+10, [1, 2, 3, 4, 5]].values  # Open, High, Low, Volume\n",
    "inputs = inputs.astype('float32')  # 데이터 타입을 float32로 변환"
   ],
   "metadata": {
    "collapsed": false,
    "pycharm": {
     "name": "#%%\n"
    }
   }
  },
  {
   "cell_type": "code",
   "execution_count": 54,
   "outputs": [
    {
     "name": "stdout",
     "output_type": "stream",
     "text": [
      "[[1.8494395e+02 1.8641673e+02 1.7837613e+02 1.7898315e+02 1.0251800e+08]\n",
      " [1.8676503e+02 1.8832738e+02 1.8493401e+02 1.8723274e+02 6.9668800e+07]\n",
      " [1.8837714e+02 1.8838708e+02 1.8585947e+02 1.8594904e+02 4.3490800e+07]\n",
      " [1.8848662e+02 1.9011862e+02 1.8769052e+02 1.8971062e+02 5.3439000e+07]\n",
      " [1.8740192e+02 1.8861595e+02 1.8643665e+02 1.8846669e+02 4.0962000e+07]\n",
      " [1.8816913e+02 1.8930502e+02 1.8732219e+02 1.8796983e+02 4.5155200e+07]\n",
      " [1.8647527e+02 1.8798979e+02 1.8611656e+02 1.8774069e+02 4.1781900e+07]\n",
      " [1.8437286e+02 1.8553867e+02 1.8284839e+02 1.8510025e+02 5.6529500e+07]\n",
      " [1.8348607e+02 1.8486110e+02 1.8178224e+02 1.8465187e+02 5.4630500e+07]\n",
      " [1.8319713e+02 1.8382486e+02 1.8069618e+02 1.8288824e+02 6.5434500e+07]]\n"
     ]
    }
   ],
   "source": [
    "print(inputs)"
   ],
   "metadata": {
    "collapsed": false,
    "pycharm": {
     "name": "#%%\n"
    }
   }
  },
  {
   "cell_type": "code",
   "execution_count": 43,
   "outputs": [
    {
     "data": {
      "text/plain": "50"
     },
     "execution_count": 43,
     "metadata": {},
     "output_type": "execute_result"
    }
   ],
   "source": [
    "inputs.size"
   ],
   "metadata": {
    "collapsed": false,
    "pycharm": {
     "name": "#%%\n"
    }
   }
  },
  {
   "cell_type": "code",
   "execution_count": 51,
   "outputs": [],
   "source": [
    "inputs = data.iloc[3, [4]].values.astype('float32')[0]"
   ],
   "metadata": {
    "collapsed": false,
    "pycharm": {
     "name": "#%%\n"
    }
   }
  },
  {
   "cell_type": "code",
   "execution_count": 52,
   "outputs": [
    {
     "name": "stdout",
     "output_type": "stream",
     "text": [
      "178.98315\n"
     ]
    }
   ],
   "source": [
    "print(inputs)"
   ],
   "metadata": {
    "collapsed": false,
    "pycharm": {
     "name": "#%%\n"
    }
   }
  },
  {
   "cell_type": "code",
   "execution_count": null,
   "outputs": [],
   "source": [],
   "metadata": {
    "collapsed": false,
    "pycharm": {
     "name": "#%%\n"
    }
   }
  }
 ],
 "metadata": {
  "kernelspec": {
   "display_name": "Python 3",
   "language": "python",
   "name": "python3"
  },
  "language_info": {
   "codemirror_mode": {
    "name": "ipython",
    "version": 2
   },
   "file_extension": ".py",
   "mimetype": "text/x-python",
   "name": "python",
   "nbconvert_exporter": "python",
   "pygments_lexer": "ipython2",
   "version": "2.7.6"
  }
 },
 "nbformat": 4,
 "nbformat_minor": 0
}